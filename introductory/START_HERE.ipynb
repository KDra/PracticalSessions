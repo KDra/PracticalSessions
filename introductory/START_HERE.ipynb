{
 "cells": [
  {
   "cell_type": "markdown",
   "metadata": {
    "colab_type": "text",
    "id": "Bu7WMlH79HLk"
   },
   "source": [
    "# Hello, TMLSS!\n",
    "\n",
    "*Designed for education purposes. Please do not distribute without permission. Questions/Correspondence: 2018tmlss@gmail.com.*\n",
    "\n",
    "\n",
    "This colaboratory (colab) will help you get prepared for the rest of the practical sessions at TMLSS:\n",
    "\n",
    "* ConvNets and Computer Vision\n",
    "* RNNs and NLP\n",
    "* VAEs and GANs\n",
    "* Reinforcement Learning\n",
    "\n",
    "Here you will get familiar with the environment and tools used in the rest of the practical sessions. **We strongly encourage you to go through these tutorials before the school.** There are small exercises throughout the sections to help you internalize the topics covered and to check your understanding. Finally, there is also a comprehensive exercise where you use all these tools to train an mnist digit classifier. **The other lab sessions will assume you can do this.**\n",
    "\n",
    "The introductory lab session itself will be used to clarify any questions.\n",
    "\n",
    "*Special thanks to the authors of educational material at DeepMind, as their work was a great resource for the creation of this lab.*\n",
    "\n"
   ]
  },
  {
   "cell_type": "markdown",
   "metadata": {
    "colab_type": "text",
    "id": "GZPhciavPqGs"
   },
   "source": [
    "## Lab 1.1: What is colab?\n",
    "\n",
    "This colab teaches you about colab and its main features. You will need to know this for the rest of the labs as you will write all code in colab. \n",
    "\n",
    "Open the file *Intro: Colab.ipynb* to access the colab.\n"
   ]
  },
  {
   "cell_type": "markdown",
   "metadata": {
    "colab_type": "text",
    "id": "lzg1D-qYRyOA"
   },
   "source": [
    "## Lab 1.2: Numpy\n",
    "\n",
    "This colab introduces you to numpy, the python package we use for computing. Topics such as\n",
    "\n",
    "* array creation\n",
    "* operations on arrays\n",
    "* indexing and selection on arrays\n",
    "* broadcasting\n",
    "\n",
    "are covered.\n",
    "\n",
    "By the end of this colab you will have written a function to generate datasets for learning the NXOR function.\n",
    "\n",
    "Open the file *Intro: Numpy.ipynb* to access the colab.\n"
   ]
  },
  {
   "cell_type": "markdown",
   "metadata": {
    "colab_type": "text",
    "id": "DDtysC3tRyD6"
   },
   "source": [
    "## Lab 1.3: Plotting with matplotlib, more numpy\n",
    "\n",
    "In this colab we generate the plot included with the definition of the NXOR function. In the process we use some more features of numpy.\n",
    "\n",
    "Other than the plot above, we also see how to use matplotlib to\n",
    "\n",
    "* draw line plots so we can visualize training curves later, and\n",
    "* display images, or galleries of images so we can visualize the output of our VAEs and GANs.\n",
    "\n",
    "Open the file *Intro: Plotting.ipynb* to access the colab.\n"
   ]
  },
  {
   "cell_type": "markdown",
   "metadata": {
    "colab_type": "text",
    "id": "sGHiArqHRx50"
   },
   "source": [
    "## Lab 1.4: Training an NXOR classifier with Tensorflow and Sonnet\n",
    "\n",
    "In this colab you learn how to build tf and [`sonnet`](https://github.com/deepmind/sonnet#) models that will be useful in the computer vision and NLP lab. We also cover topics like\n",
    "\n",
    "* a number of lower level tensor operations\n",
    "* visualizing the model we built\n",
    "* getting the data into our model\n",
    "* debugging tensorflow models\n",
    "* backpropagation as implemented by tensorflow\n",
    "* how to actually train the network.\n",
    "\n",
    "By the end of the colab you will have trained a classifier that approximates the NXOR function.\n",
    "\n",
    "Open the file *Intro_Tensorflow_and_Sonnet.ipynb* to access the colab.\n"
   ]
  },
  {
   "cell_type": "markdown",
   "metadata": {
    "colab_type": "text",
    "id": "CD1iwdI0oCZR"
   },
   "source": [
    "## Exercise: putting everything together\n",
    "\n",
    "In this colab you will write code for a model that learns to classify mnist digits. You will use sonnet and tensorflow, tracking training progress with matplotlib.\n",
    "\n",
    "Colabs:\n",
    "\n",
    "* Exercise: *Comprehensive Exercise.ipynb*\n",
    "* Solutions: *Comprehensive Exercise [Solution].ipynb*\n"
   ]
  },
  {
   "cell_type": "markdown",
   "metadata": {
    "colab_type": "text",
    "id": "E7JiCdmAYAye"
   },
   "source": [
    "## Lab 1.5: Working with Distributions in Tensorflow\n",
    "\n",
    "In this colab we fit a simple gaussian distribution to data using tensorflow. This idea forms the basis of the more advanced techniques covered in the Generative models lab.\n",
    "\n",
    "Open the file *Intro: Learning a Distribution.ipynb* to access the colab.\n"
   ]
  },
  {
   "cell_type": "code",
   "execution_count": null,
   "metadata": {
    "colab": {},
    "colab_type": "code",
    "id": "XCq-oTxkPqn6"
   },
   "outputs": [],
   "source": []
  }
 ],
 "metadata": {
  "colab": {
   "collapsed_sections": [],
   "name": "START HERE.ipynb",
   "provenance": [],
   "toc_visible": true,
   "version": "0.3.2"
  },
  "kernelspec": {
   "display_name": "Python 3",
   "language": "python",
   "name": "python3"
  },
  "language_info": {
   "codemirror_mode": {
    "name": "ipython",
    "version": 3
   },
   "file_extension": ".py",
   "mimetype": "text/x-python",
   "name": "python",
   "nbconvert_exporter": "python",
   "pygments_lexer": "ipython3",
   "version": "3.6.6"
  }
 },
 "nbformat": 4,
 "nbformat_minor": 2
}
